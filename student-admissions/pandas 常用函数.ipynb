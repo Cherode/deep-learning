{
 "cells": [
  {
   "cell_type": "markdown",
   "metadata": {},
   "source": [
    "# pandas做数据分析(三):常用预处理操作\n",
    "\n",
    "在数据分析和机器学习的一些任务里面,对于数据集的某些列或者行丢弃，以及数据集之间的合并操作是非常常见的."
   ]
  },
  {
   "cell_type": "markdown",
   "metadata": {},
   "source": [
    "# 一.合并操作\n",
    "Ⅰ.pandas.merge  \n",
    "\n",
    "pandas.merge(left, right, how=’inner’, on=None, left_on=None, right_on=None, left_index=False, right_index=False, sort=False, suffixes=(‘_x’, ‘_y’), copy=True, indicator=False)"
   ]
  },
  {
   "cell_type": "raw",
   "metadata": {},
   "source": [
    "作用:通过执行一个类似于数据库风格join的操作,来在columns(列)或者indexes(行)上合并DataFrame对象. 如果在columns和columns上面进行join,那么indexes就会被忽略.同样,要是在indexes和indexes之间或者indexes和columns之间进行join,那么index也会被忽略. \n",
    "参数: \n",
    "left : DataFrame \n",
    "right : DataFrame \n",
    "how : {‘left’, ‘right’, ‘outer’, ‘inner’}, default ‘inner’ \n",
    "left: use only keys from left frame (SQL: left outer join) \n",
    "right: use only keys from right frame (SQL: right outer join) \n",
    "outer: use union of keys from both frames (SQL: full outer join) \n",
    "inner: use intersection of keys from both frames (SQL: inner join) \n",
    "on : label or list \n",
    "Field names to join on. Must be found in both DataFrames. If on is None and not merging on indexes, then it merges on the intersection of the columns by default. \n",
    "left_on : label or list, or array-like \n",
    "Field names to join on in left DataFrame. Can be a vector or list of vectors of the length of the DataFrame to use a particular vector as the join key instead of columns \n",
    "right_on : label or list, or array-like \n",
    "Field names to join on in right DataFrame or vector/list of vectors per left_on docs \n",
    "left_index : boolean, default False \n",
    "Use the index from the left DataFrame as the join key(s). If it is a MultiIndex, the number of keys in the other DataFrame (either the index or a number of columns) must match the number of levels \n",
    "right_index : boolean, default False \n",
    "Use the index from the right DataFrame as the join key. Same caveats as left_index \n",
    "sort : boolean, default False \n",
    "Sort the join keys lexicographically in the result DataFrame \n",
    "suffixes : 2-length sequence (tuple, list, …) \n",
    "Suffix to apply to overlapping column names in the left and right side, respectively \n",
    "copy : boolean, default True \n",
    "If False, do not copy data unnecessarily \n",
    "indicator : boolean or string, default False \n",
    "If True, adds a column to output DataFrame called “_merge” with information on the source of each row. If string, column with information on source of each row will be added to output DataFrame, and column will be named value of string. Information column is Categorical-type and takes on a value of “left_only” for observations whose merge key only appears in ‘left’ DataFrame, “right_only” for observations whose merge key only appears in ‘right’ DataFrame, and “both” if the observation’s merge key is found in both. \n",
    "New in version 0.17.0. \n",
    "Returns: \n",
    "merged : DataFrame \n",
    "The output type will the be same as ‘left’, if it is a subclass of DataFrame."
   ]
  },
  {
   "cell_type": "markdown",
   "metadata": {},
   "source": [
    "# Ⅱ.pandas.concat"
   ]
  },
  {
   "cell_type": "markdown",
   "metadata": {},
   "source": [
    "# 二.丢弃操作\n",
    "Ⅲ.pandas.DataFrame.drop  \n",
    "\n",
    "DataFrame.drop(labels, axis=0, level=None, inplace=False, errors=’raise’)"
   ]
  },
  {
   "cell_type": "raw",
   "metadata": {},
   "source": [
    "# 作用：返回一个指定轴上label被移除之后的对象。 \n",
    "参数： \n",
    "labels : 一个或者一列label值 \n",
    "axis : int类型或者轴的名字，这个轴和labels配合起来，比如，当axis=0的时候，就是行上面的label，当axis=1的时候，就是列上面的label \n",
    "level : int or level name, default None \n",
    "For MultiIndex \n",
    "inplace : bool, 默认是False，这个表示是不是在原始的dataframe上面做替换。要是是Ture的话，原始dataframe会变化，同时返回的是None。 \n",
    "errors : {‘ignore’, ‘raise’},默认是‘raise’。要是是‘ignore’的话，就不管error,已经存在的labels会被丢弃。\n",
    "\n"
   ]
  },
  {
   "cell_type": "code",
   "execution_count": 3,
   "metadata": {},
   "outputs": [
    {
     "name": "stdout",
     "output_type": "stream",
     "text": [
      "original:\n",
      "    A  B  C\n",
      "0  a  b  1\n",
      "1  b  a  2\n",
      "2  a  c  3\n",
      "df:\n",
      "    A  B  C\n",
      "0  a  b  1\n",
      "1  b  a  2\n",
      "2  a  c  3\n",
      "get1:\n",
      "    A  B  C\n",
      "1  b  a  2\n",
      "2  a  c  3\n",
      "df:\n",
      "    A  B  C\n",
      "1  b  a  2\n",
      "2  a  c  3\n",
      "get1:\n",
      " None\n",
      "df:\n",
      "    A  B  C\n",
      "1  b  a  2\n",
      "2  a  c  3\n",
      "get3:\n",
      "    B  C\n",
      "1  a  2\n",
      "2  c  3\n"
     ]
    }
   ],
   "source": [
    "import numpy as np\n",
    "import pandas as pd\n",
    "\n",
    "\n",
    "df = pd.DataFrame({'A': ['a', 'b', 'a'], 'B': ['b', 'a', 'c'],\n",
    "                   'C': [1, 2, 3]})\n",
    "print(\"original:\\n\",df)\n",
    "\n",
    "#get1接受的是第0行（因为这个时候axis=0）移除之后的新对象\n",
    "#因为inplace默认是False，所以df不会有变化\n",
    "get1=df.drop(labels=0)\n",
    "print(\"df:\\n\",df)\n",
    "print(\"get1:\\n\",get1)\n",
    "\n",
    "#因为inplace这时候是True，所以df会变化，同时get2接受的是None值\n",
    "get2=df.drop(labels=0,inplace=True)\n",
    "print(\"df:\\n\",df)\n",
    "print(\"get1:\\n\",get2)\n",
    "\n",
    "#这个时候是移除列了，对比上面来看\n",
    "get3=df.drop(labels=\"A\",axis=1)\n",
    "print(\"df:\\n\",df)\n",
    "print(\"get3:\\n\",get3)"
   ]
  },
  {
   "cell_type": "markdown",
   "metadata": {},
   "source": [
    "# Ⅳ.pandas.DataFrame.pop\n",
    "DataFrame.pop(item)"
   ]
  },
  {
   "cell_type": "raw",
   "metadata": {},
   "source": [
    "作用：返回这个item，同时把这个item从frame里面丢弃。"
   ]
  },
  {
   "cell_type": "markdown",
   "metadata": {},
   "source": [
    "# 三.编码\n",
    "1.pandas.get_dummies()  \n",
    "\n",
    "把类别量装换为指示变量(其实就是one-hot encoding)  \n",
    "\n",
    "\n",
    "pandas.get_dummies(data, prefix=None, prefix_sep=’_’, dummy_na=False, columns=None, sparse=False, drop_first=False)"
   ]
  },
  {
   "cell_type": "raw",
   "metadata": {},
   "source": [
    "参数: \n",
    "data : 类array类型,Series或者是DataFrame类型. \n",
    "prefix : 字符串,或者字符串列表,或者字符串字典.默认为None,这里应该传入一个字符串列表,且这个列表的长度是和将要被get_dummis的那些列数量是相等的.同样,prefix选项也可以是一个把列名映射到prefixes的字典. \n",
    "prefix_sep : string, default ‘_’ \n",
    "If appending prefix, separator/delimiter to use. Or pass a list or dictionary as with prefix. \n",
    "dummy_na : bool, default False \n",
    "Add a column to indicate NaNs, if False NaNs are ignored. \n",
    "columns : list-like, default None \n",
    "Column names in the DataFrame to be encoded. If columns is None then all the columns with object or category dtype will be converted. \n",
    "sparse : bool, default False \n",
    "Whether the dummy columns should be sparse or not. Returns SparseDataFrame if data is a Series or if all columns are included. Otherwise returns a DataFrame with some SparseBlocks. \n",
    "New in version 0.16.1. \n",
    "drop_first : bool, default False \n",
    "Whether to get k-1 dummies out of k categorical levels by removing the first level. \n",
    "New in version 0.18.0. \n",
    "Returns \n",
    "——- \n",
    "dummies : DataFrame or SparseDataFrame"
   ]
  },
  {
   "cell_type": "markdown",
   "metadata": {},
   "source": [
    "## 例1.Series"
   ]
  },
  {
   "cell_type": "code",
   "execution_count": 4,
   "metadata": {},
   "outputs": [
    {
     "name": "stdout",
     "output_type": "stream",
     "text": [
      "original:\n",
      "0    a\n",
      "1    b\n",
      "2    c\n",
      "3    a\n",
      "dtype: object\n",
      "get dummy:\n",
      "   a  b  c\n",
      "0  1  0  0\n",
      "1  0  1  0\n",
      "2  0  0  1\n",
      "3  1  0  0\n",
      "type of s_dummy: <class 'pandas.core.frame.DataFrame'>\n"
     ]
    }
   ],
   "source": [
    "import numpy as np\n",
    "import pandas as pd\n",
    "\n",
    "#对于一个Series来说,行数保持不变,列数变为不同类的个数\n",
    "#但是每一行还是以编码的形式表示原来的类别\n",
    "#这个函数返回是一个DataFrame,其中列名为各种类别\n",
    "s = pd.Series(list('abca'))\n",
    "print(\"original:\")\n",
    "print(s)\n",
    "print(\"get dummy:\")\n",
    "s_dummy=pd.get_dummies(data=s)\n",
    "print(s_dummy)\n",
    "print(\"type of s_dummy:\",type(s_dummy))"
   ]
  },
  {
   "cell_type": "markdown",
   "metadata": {},
   "source": [
    "## 例2.DataFrame"
   ]
  },
  {
   "cell_type": "code",
   "execution_count": 15,
   "metadata": {},
   "outputs": [
    {
     "name": "stdout",
     "output_type": "stream",
     "text": [
      "original:\n",
      "   A  B  C\n",
      "0  a  b  1\n",
      "1  b  a  2\n",
      "2  a  c  3\n",
      "get dummy:\n",
      "   C  A_a  A_b  B_a  B_b  B_c\n",
      "0  1    1    0    0    1    0\n",
      "1  2    0    1    1    0    0\n",
      "2  3    1    0    0    0    1\n"
     ]
    }
   ],
   "source": [
    "import numpy as np\n",
    "import pandas as pd\n",
    "\n",
    "df = pd.DataFrame({'A': ['a', 'b', 'a'], 'B': ['b', 'a', 'c'],\n",
    "                   'C': [1, 2, 3]})\n",
    "print(\"original:\")\n",
    "print(df)\n",
    "\n",
    "#其中只要是类别相关的,都会被hot-encoding\n",
    "#每一个特征(原始形式的列名)下面有几种不同的类别,就会生成几列(比如A下面只有a和b两种形式,就会生成A_a和A_b两列)\n",
    "#原始为数字的那些特征,保持不变\n",
    "#prefix表示你对于新生成的那些列想要的前缀,你可以自己命名\n",
    "df_dummy=pd.get_dummies(data=df,prefix=[\"A\",\"B\"])\n",
    "print(\"get dummy:\")\n",
    "print(df_dummy)"
   ]
  },
  {
   "cell_type": "code",
   "execution_count": 23,
   "metadata": {},
   "outputs": [
    {
     "name": "stdout",
     "output_type": "stream",
     "text": [
      "original:\n",
      "   A  B  C\n",
      "0  a  b  1\n",
      "1  b  a  2\n",
      "2  a  c  3\n",
      "get dummy:\n",
      "   A  C  A_a  A_b  A_c\n",
      "0  a  1    0    1    0\n",
      "1  b  2    1    0    0\n",
      "2  a  3    0    0    1\n"
     ]
    }
   ],
   "source": [
    "import numpy as np\n",
    "import pandas as pd\n",
    "\n",
    "df = pd.DataFrame({'A': ['a', 'b', 'a'], 'B': ['b', 'a', 'c'],\n",
    "                   'C': [1, 2, 3]})\n",
    "print(\"original:\")\n",
    "print(df)\n",
    "df_dummy=pd.get_dummies(data=df,prefix=[\"A\"],columns=[\"B\"])\n",
    "print(\"get dummy:\")\n",
    "print(df_dummy)"
   ]
  },
  {
   "cell_type": "code",
   "execution_count": 19,
   "metadata": {},
   "outputs": [
    {
     "ename": "SyntaxError",
     "evalue": "invalid syntax (<ipython-input-19-fa834a2ba503>, line 1)",
     "output_type": "error",
     "traceback": [
      "\u001b[0;36m  File \u001b[0;32m\"<ipython-input-19-fa834a2ba503>\"\u001b[0;36m, line \u001b[0;32m1\u001b[0m\n\u001b[0;31m    help get_dummies\u001b[0m\n\u001b[0m                   ^\u001b[0m\n\u001b[0;31mSyntaxError\u001b[0m\u001b[0;31m:\u001b[0m invalid syntax\n"
     ]
    }
   ],
   "source": [
    "help get_dummies"
   ]
  },
  {
   "cell_type": "markdown",
   "metadata": {},
   "source": [
    "# 三.处理缺失值\n",
    "pandas使用浮点数NaN(not a number)表示浮点和非浮点数组中的缺失数据.   \n",
    "\n",
    "pandas中,自己传入的np.nan或者是python内置的None值,都会被当做NaN处理,如下例."
   ]
  },
  {
   "cell_type": "code",
   "execution_count": 7,
   "metadata": {},
   "outputs": [
    {
     "name": "stdout",
     "output_type": "stream",
     "text": [
      "0     tom\n",
      "1    jack\n",
      "2    kate\n",
      "3     NaN\n",
      "dtype: object\n",
      "0    None\n",
      "1    jack\n",
      "2    kate\n",
      "3     NaN\n",
      "dtype: object\n"
     ]
    }
   ],
   "source": [
    "import numpy as np\n",
    "import pandas as pd\n",
    "\n",
    "s=pd.Series(data=[\"tom\",\"jack\",\"kate\",np.nan])\n",
    "print(s)\n",
    "\n",
    "s[0]=None\n",
    "print(s)"
   ]
  },
  {
   "cell_type": "markdown",
   "metadata": {},
   "source": [
    "## Ⅰ.查找缺失值\n",
    "DataFrame.isnull()"
   ]
  },
  {
   "cell_type": "raw",
   "metadata": {},
   "source": [
    "作用,返回一个和原来DataFrame一样形状的,里面值为布尔型的DataFrame."
   ]
  },
  {
   "cell_type": "code",
   "execution_count": 9,
   "metadata": {},
   "outputs": [
    {
     "name": "stdout",
     "output_type": "stream",
     "text": [
      "0     tom\n",
      "1    jack\n",
      "2    kate\n",
      "3     NaN\n",
      "dtype: object\n",
      "0    False\n",
      "1    False\n",
      "2    False\n",
      "3     True\n",
      "dtype: bool\n",
      "<class 'pandas.core.series.Series'>\n",
      "original:\n",
      "     A  B    C\n",
      "0    a  b  1.0\n",
      "1    b  a  2.0\n",
      "2  NaN  c  NaN\n",
      "       A      B      C\n",
      "0  False  False  False\n",
      "1  False  False  False\n",
      "2   True  False   True\n"
     ]
    }
   ],
   "source": [
    "import numpy as np\n",
    "import pandas as pd\n",
    "\n",
    "s=pd.Series(data=[\"tom\",\"jack\",\"kate\",np.nan])\n",
    "print(s)\n",
    "\n",
    "print(s.isnull())\n",
    "print(type(s.isnull()))\n",
    "\n",
    "df = pd.DataFrame({'A': ['a', 'b', np.nan], 'B': ['b', 'a', 'c'],\n",
    "                   'C': [1, 2, np.nan]})\n",
    "print(\"original:\")\n",
    "print(df)\n",
    "print(df.isnull())"
   ]
  },
  {
   "cell_type": "markdown",
   "metadata": {},
   "source": [
    "## Ⅱ.填充缺失值\n",
    "pandas.DataFrame.fillna  \n",
    "\n",
    "使用指定的方法来填充缺失值,并且返回被填充好的DataFrame  \n",
    "\n",
    "\n",
    "DataFrame.fillna(value=None,method=None,axis=None,inplace=False,limit=None,downcast=None, **kwargs)  \n",
    "\n",
    "\n",
    "参数:"
   ]
  },
  {
   "cell_type": "raw",
   "metadata": {},
   "source": [
    "value : 可以是标量,字典,Series对象,DataFrame对象.value的作用就是用来填充那些缺失的部分. \n",
    "method : 可选为{‘backfill’, ‘bfill’, ‘pad’, ‘ffill’, None}, 默认是None, \n",
    "Method to use for filling holes in reindexed Series pad / ffill: propagate last valid observation forward to next valid backfill / bfill: use NEXT valid observation to fill gap \n",
    "axis : {0 or ‘index’, 1 or ‘columns’} \n",
    "inplace : 布尔值,默认为False.要是为True的话,那么就会就地修改. \n",
    "limit : (对于前向填充和后向填充)可以连续填充的最大数量."
   ]
  },
  {
   "cell_type": "markdown",
   "metadata": {},
   "source": [
    "# Ⅲ.丢弃缺失值"
   ]
  },
  {
   "cell_type": "code",
   "execution_count": null,
   "metadata": {},
   "outputs": [],
   "source": []
  }
 ],
 "metadata": {
  "kernelspec": {
   "display_name": "Python 3",
   "language": "python",
   "name": "python3"
  },
  "language_info": {
   "codemirror_mode": {
    "name": "ipython",
    "version": 3
   },
   "file_extension": ".py",
   "mimetype": "text/x-python",
   "name": "python",
   "nbconvert_exporter": "python",
   "pygments_lexer": "ipython3",
   "version": "3.6.4"
  }
 },
 "nbformat": 4,
 "nbformat_minor": 2
}
